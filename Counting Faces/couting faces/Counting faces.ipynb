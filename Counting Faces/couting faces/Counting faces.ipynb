{
 "cells": [
  {
   "cell_type": "code",
   "execution_count": 1,
   "metadata": {},
   "outputs": [],
   "source": [
    "import cv2\n",
    "import numpy as np\n",
    "import dlib"
   ]
  },
  {
   "cell_type": "code",
   "execution_count": 4,
   "metadata": {},
   "outputs": [
    {
     "name": "stdout",
     "output_type": "stream",
     "text": [
      "Collecting cmake\n",
      "  Downloading cmake-3.18.4.post1-py3-none-win_amd64.whl (34.7 MB)\n",
      "Installing collected packages: cmake\n",
      "Successfully installed cmake-3.18.4.post1\n",
      "Collecting cmake\n",
      "  Downloading cmake-3.18.4.post1-py3-none-win_amd64.whl (34.7 MB)\n",
      "Installing collected packages: cmake\n",
      "Successfully installed cmake-3.18.4.post1\n"
     ]
    }
   ],
   "source": [
    "!pip install cmake"
   ]
  },
  {
   "cell_type": "code",
   "execution_count": 5,
   "metadata": {},
   "outputs": [
    {
     "name": "stdout",
     "output_type": "stream",
     "text": [
      "Collecting dlib\n",
      "  Using cached dlib-19.21.1.tar.gz (3.6 MB)\n",
      "Building wheels for collected packages: dlib\n",
      "  Building wheel for dlib (setup.py): started\n",
      "  Building wheel for dlib (setup.py): still running...\n",
      "  Building wheel for dlib (setup.py): still running...\n",
      "  Building wheel for dlib (setup.py): still running...\n",
      "  Building wheel for dlib (setup.py): still running...\n",
      "  Building wheel for dlib (setup.py): still running...\n",
      "  Building wheel for dlib (setup.py): still running...\n",
      "  Building wheel for dlib (setup.py): still running...\n",
      "  Building wheel for dlib (setup.py): still running...\n",
      "  Building wheel for dlib (setup.py): still running...\n",
      "  Building wheel for dlib (setup.py): still running...\n",
      "  Building wheel for dlib (setup.py): still running...\n",
      "  Building wheel for dlib (setup.py): still running...\n",
      "  Building wheel for dlib (setup.py): finished with status 'done'\n",
      "  Created wheel for dlib: filename=dlib-19.21.1-cp38-cp38-win_amd64.whl size=3004048 sha256=6c03570a2dde9cd9080785d90876b6a95ed9b412db679fe39599d8eeda816979\n",
      "  Stored in directory: c:\\users\\farhan\\appdata\\local\\pip\\cache\\wheels\\f0\\05\\00\\752b02e4ab2f6ce4633c099c0666af48ff3e4627150a500282\n",
      "Successfully built dlib\n",
      "Installing collected packages: dlib\n",
      "Successfully installed dlib-19.21.1\n"
     ]
    }
   ],
   "source": [
    "!pip install dlib"
   ]
  },
  {
   "cell_type": "code",
   "execution_count": 4,
   "metadata": {},
   "outputs": [],
   "source": [
    "video = cv2.VideoCapture(0)\n",
    "\n",
    "detector = dlib.get_frontal_face_detector()\n",
    "\n",
    "while True:\n",
    "    ret, frame = video.read()\n",
    "    frame = cv2.flip(frame,1)\n",
    "    \n",
    "    # to increase the precision of object detection and to decrease the time of processing of program\n",
    "    gray = cv2.cvtColor(frame,cv2.COLOR_BGR2GRAY)\n",
    "    \n",
    "    faces = detector(gray) # it will provide starting x, starting y, height of face, width of face\n",
    "    \n",
    "    \n",
    "    i=0\n",
    "    for face in faces:\n",
    "        \n",
    "        \n",
    "        x,y = face.left(),face.top()\n",
    "        \n",
    "        \n",
    "        hi,wi = face.right(),face.bottom()\n",
    "        \n",
    "        # adding a rectangular frame to the faces appearing in front of the screen\n",
    "        cv2.rectangle(frame, (x,y),(hi,wi),(0,0,255),2)\n",
    "        \n",
    "        i=i+1 # incrementing the count of faces appearing on the output screen\n",
    "        \n",
    "        # adding text on the output window, next to the faces\n",
    "        # Face +no of green color with thickness 2 and font size as given will be added 12 pixels before the x and y\n",
    "        cv2.putText(frame,'face '+str(i),(x-12,y-12),cv2.FONT_HERSHEY_COMPLEX_SMALL,0.7,(0,255,0),2)\n",
    "        \n",
    "        # display in the output window named 'Faces'\n",
    "        cv2.imshow(\"Faces\",frame)\n",
    "        \n",
    "    # if we wish to end the program, press q\n",
    "    key=cv2.waitKey(1)\n",
    "    if key==ord('q'):\n",
    "        cv2.destroyAllWindows()\n",
    "        video.release()\n",
    "        break"
   ]
  },
  {
   "cell_type": "code",
   "execution_count": null,
   "metadata": {},
   "outputs": [],
   "source": []
  }
 ],
 "metadata": {
  "kernelspec": {
   "display_name": "Python 3",
   "language": "python",
   "name": "python3"
  },
  "language_info": {
   "codemirror_mode": {
    "name": "ipython",
    "version": 3
   },
   "file_extension": ".py",
   "mimetype": "text/x-python",
   "name": "python",
   "nbconvert_exporter": "python",
   "pygments_lexer": "ipython3",
   "version": "3.8.3"
  }
 },
 "nbformat": 4,
 "nbformat_minor": 4
}
